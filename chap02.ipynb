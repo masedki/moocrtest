{
 "cells": [
  {
   "cell_type": "markdown",
   "metadata": {},
   "source": [
    "# Chapitre 2 - Représentations graphiques\n",
    "Pour pas mal d'utilisateurs des statistiques, plus l'outil statistique est compliqué, plus ils sont forts et plus ils vont être susceptibles de tirer la substantifique moelle de leur jeu de données. En réalité, l'expérience prouve que c'est à peu près le contraire. Plus une méthode statistique est simple, plus elle est efficace parce que tout le monde comprend les résultats. Le plus simple finalement, c'est les représentations graphiques et c'est pour ça que ce deuxième cours est particulièrement important. Le seul inconvénient des méthodes graphiques, c'est qu'elles prennent beaucoup de place.\n",
    "\n",
    "Nous verrons successivement dans ce cours comment représenter graphiquement la distribution de variables *qualitatives* puis de variables *quantitatives*. Nous verrons plus précisément :\n",
    "\n",
    "- les diagrammes en bâtons,\n",
    "- les camemberts,\n",
    "- les histogrammes,\n",
    "- les boîtes à moustaches,\n",
    "- les diagrammes cartésiens,\n",
    "- les diagrammes en fagot.\n",
    "\n",
    "Pour commencer, faisons connaissance avec le fichier smp que nous allons utiliser dans le restant du cours.\n",
    "\n",
    "Ce fichier est relatif à l'étude santé mentale en prison, réalisée en 2004 et financée par le Ministère de la Justice et le Ministère de la Santé. Cette étude a porté sur 799 détenus masculins tirés au sort dans les prisons de France métropolitaine. Nous avons ici un extrait de 9 variables avec :\n",
    "\n",
    "- l'âge\n",
    "- la profession du détenu\n",
    "- l'existence d'un diagnostic de dépression, de schizophrénie, réalisé par 2 cliniciens, c'est un diagnostic consensuel\n",
    "- le niveau de gravité éventuelle de la pathologie du détenu, ici gravité consensuelle également\n",
    "- le nombre d'enfants du détenu\n",
    "\n",
    "et puis 3 variables relatives à sa personnalité :\n",
    "\n",
    "- le niveau de recherche de sensation (rs)\n",
    "- le niveau d'évitement du danger (ed)\n",
    "- le niveau de dépendance à la récompense (dr)\n",
    "\n",
    "Vous définissez le répertoire de travail à l'aide de l'instruction `setwd()` :"
   ]
  },
  {
   "cell_type": "code",
   "execution_count": null,
   "metadata": {},
   "outputs": [],
   "source": [
    "setwd(\"/mooc\")"
   ]
  },
  {
   "cell_type": "markdown",
   "metadata": {},
   "source": [
    "Vous importez le fichier le fichier csv à l'aide de l'instruction `read.csv2()` :"
   ]
  },
  {
   "cell_type": "code",
   "execution_count": null,
   "metadata": {
    "collapsed": true
   },
   "outputs": [],
   "source": [
    "smp.c <- read.csv2(\"smp1.csv\")"
   ]
  },
  {
   "cell_type": "markdown",
   "metadata": {},
   "source": [
    "La chose à faire immédiatement après est naturellement de vérifier le contenu du fichier qu'on a importé.\n",
    "\n",
    "La solution la plus simple est sûrement d'utiliser l'instruction `str(le-nom-du-fichier)` qui vous décrit son contenu, le nombre de sujets, le nombre de variables, l'intitulé des variables et contenu des premières valeurs :\n"
   ]
  },
  {
   "cell_type": "code",
   "execution_count": null,
   "metadata": {
    "collapsed": true
   },
   "outputs": [],
   "source": [
    "str(smp.c)"
   ]
  },
  {
   "cell_type": "markdown",
   "metadata": {},
   "source": [
    "Une façon classique de représenter la distribution d'une variable aléatoire qualitative, c'est d'utiliser un diagramme en bâtons.\n",
    "\n",
    "Avec R, il faut utiliser les fonctions `barplot()` et `table()` :\n",
    "\n",
    "`table()` va calculer le nombre de détenus ayant chacun des métiers :"
   ]
  },
  {
   "cell_type": "code",
   "execution_count": null,
   "metadata": {
    "collapsed": true
   },
   "outputs": [],
   "source": [
    "table(smp.c$prof)"
   ]
  },
  {
   "cell_type": "markdown",
   "metadata": {},
   "source": [
    "et `barplot()` va représenter des bâtons ayant comme hauteur le nombre de ces détenus :"
   ]
  },
  {
   "cell_type": "code",
   "execution_count": null,
   "metadata": {
    "collapsed": true
   },
   "outputs": [],
   "source": [
    "barplot(table(smp.c$prof))"
   ]
  },
  {
   "cell_type": "markdown",
   "metadata": {},
   "source": [
    "Un autre grand classique pour représenter graphiquement la distribution d'une variable aléatoire catégorielle, c'est d'utiliser un camembert.\n",
    "\n",
    "Avec R, on utilise les fonctions pie() et table(), \"pie\" signifiant en anglais \"tarte\"."
   ]
  },
  {
   "cell_type": "code",
   "execution_count": null,
   "metadata": {
    "collapsed": true
   },
   "outputs": [],
   "source": [
    "pie(table(smp.c$prof))"
   ]
  },
  {
   "cell_type": "markdown",
   "metadata": {},
   "source": [
    "Certains statisticiens sont réticents à l'usage de ces camemberts : en effet, il semblerait que l'oil humain ait des difficultés à percevoir intuitivement des rapports de surface entre des secteurs de cercle, c'est-à-dire entre des parts de tarte, ou des parts de camembert. Alors qu'au contraire, l'oil humain serait capable de percevoir intuitivement des différences de hauteur de bâtons dans un diagramme en bâtons. En pratique, les représentations en camembert ont une certaine utilité quand on est intéressé par la part que représente une profession donnée par rapport à l'ensemble des détenus. En effet, chaque secteur peut être comparé à la superficie totale du cercle, ou du disque. Au contraire, avec un diagramme en bâtons, il faudrait avoir un bâton qui corresponde à l'ensemble de l'effectif étudié, ce qui serait peu commode.\n",
    "\n",
    "Le grand classique pour représenter la distribution d'une variable aléatoire quantitative continue, c'est l'histogramme. Pour une variable aléatoire quantitative discrète, il vaut mieux utiliser un diagramme en bâtons. La différence entre les deux, c'est qu'avec l'histogramme, les bâtons sont contigus pour bien montrer qu'il y a une continuité dans les valeurs de la variable. Le seul point théorique un peu délicat avec un histogramme, c'est comment déterminer le nombre de bâtons. En pratique avec R, c'est automatique et 99 fois sur 100 ça marche très bien. L'instruction est très simple, c'est la fonction `hist(variable)`.\n"
   ]
  },
  {
   "cell_type": "code",
   "execution_count": null,
   "metadata": {
    "collapsed": true
   },
   "outputs": [],
   "source": [
    "hist(smp.c$age)"
   ]
  },
  {
   "cell_type": "markdown",
   "metadata": {},
   "source": [
    "\n",
    "On peut être un peu déçu de l'aspect graphique notamment du fait que les bâtons ne sont pas grisés.\n",
    "\n",
    "Pour cela, il est possible d'ajouter des instructions à la fonction  `hist()`, par exemple `col=\"grey\"` pour avoir des bâtons grisés, et puis on peut décider de changer le titre du graphique et de changer la légende de l'axe des x comme ici : on a supprimé le titre du graphique avec `main=\"\"` donc il n'y a aucun titre, et puis l'instruction `xlab` permet de déterminer la légende de l'axe des x."
   ]
  },
  {
   "cell_type": "code",
   "execution_count": null,
   "metadata": {
    "collapsed": true
   },
   "outputs": [],
   "source": [
    "hist(smp.c$age,col=\"grey\",main=\"\",xlab=\"hee\")"
   ]
  },
  {
   "cell_type": "markdown",
   "metadata": {},
   "source": [
    "Une autre façon plus synthétique de représenter graphiquement la distribution d'une variable aléatoire quantitative, c'est d'utiliser une boîte à moustaches. L'instruction R est très simple, c'est la fonction `boxplot()`. Il suffit juste après de signifier la variable, ici l'age du fichier smp.c et puis j'ai rajouté `xlab` pour bien indiquer en légende qu'il s'agit de la variable age."
   ]
  },
  {
   "cell_type": "code",
   "execution_count": null,
   "metadata": {
    "collapsed": true
   },
   "outputs": [],
   "source": [
    "boxplot(smp.c$age,xlab=\"age\")"
   ]
  },
  {
   "cell_type": "markdown",
   "metadata": {},
   "source": [
    "Une boîte à moustaches s'interprète de la façon suivante :\n",
    "\n",
    "- à l'intérieur de la boîte, vous avez 50 % des données,\n",
    "- vous avez ensuite une moustache supérieure,\n",
    "- et entre le bord supérieur de la boîte et la moustache supérieure, vous avez 25 % des données, \n",
    "- et entre le bord inférieur de la boîte et la moustache inférieure, vous avez aussi 25% des données.\n",
    "\n",
    "Alors ce que je dis en réalité est un peu faux.\n",
    "\n",
    "Si c'était vrai, \n",
    "\n",
    "- la moustache supérieure devrait correspondre au maximum des données \n",
    "- et la moustache inférieure au minimum \n",
    "- et pourtant vous voyez sur ce graphique, sous forme de cercles, quelques valeurs extrêmes que l'on appelle souvent \"outlayers\".\n",
    "\n",
    "En réalité, la définition de la moustache supérieure d'une boîte à moustaches est horriblement compliquée.  \n",
    "C'est le min(max des données, 1,5 écart-types au dessus du bord supérieur de la boîte).  \n",
    "C'est complètement incompréhensible et personne ne le retient.\n",
    "\n",
    "Les boîtes à moustaches sont réellement utiles pour représenter graphiquement la distribution d'une variable quantitative en fonction de sous-groupes. Par exemple, on pourrait se demander : \"Est-ce que la distribution de l'âge est la même selon qu'on ait un niveau de recherche de sensations \"faible\", \"moyen\" ou \"élevé\" ?\". C'est ce que nous avons fait sur le graphique présent.\n",
    "\n",
    "L'instruction R est aussi simple que précédemment, c'est `boxplot()` et il suffit à côté de la variable age de mettre un tilde (~) que l'on obtient à partir des touches Alt Gr 2 et puis la variable qui détermine les sous-groupes que l'on veut représenter, ici la variable recherche de sensation.\n"
   ]
  },
  {
   "cell_type": "code",
   "execution_count": null,
   "metadata": {
    "collapsed": true
   },
   "outputs": [],
   "source": [
    "boxplot(smp.c$age~smp.c$rs,ylab=\"age\",xlab=\"Recherche de sensation\")"
   ]
  },
  {
   "cell_type": "markdown",
   "metadata": {},
   "source": [
    "On observe ici que, globalement, la distribution en âge est légèrement supérieure quand on a un faible niveau de sensation, plutôt que quand on a un niveau de sensation élevé.\n",
    "\n",
    "Pour représenter graphiquement la distribution conjointe de deux variables aléatoires quantitatives à l'aide d'un traditionnel graphique en x/y ou graphique cartésien, il faut utiliser la fonction `plot()` avec d'une part la variable qu'il y aura selon l'axe des x, et d'autre part la variable qu'il y aura selon l'axe des y.\n"
   ]
  },
  {
   "cell_type": "code",
   "execution_count": null,
   "metadata": {
    "collapsed": true
   },
   "outputs": [],
   "source": [
    "plot(smp.c$age,smp.c$n.enfant)"
   ]
  },
  {
   "cell_type": "markdown",
   "metadata": {},
   "source": [
    "Dans le cas présent, nous avons représenté la distribution de l'âge et du nombre d'enfants et fort logiquement, plus un détenu est âgé, plus il a en moyenne un nombre d'enfants élevé.\n",
    "\n",
    "On peut être surpris sur ce graphique par le fait qu'il semble ne pas y avoir 800 points correspondant aux 799 détenus, et cela s'explique naturellement : c'est que 2 détenus ayant chacun 50 ans et 2 enfants auront un point situé exactement au même endroit. Ça n'est pas gênant en soi, mais ça peut induire un peu en erreur. On peut avoir l'impression qu'il y a moins de sujets qu'il y en a réellement. \n",
    "\n",
    "Une façon de se tirer de ce faux pas, c'est de bouger légèrement de façon aléatoire chaque point de façon à ce qu'ils se décollent les uns des autres. L'instruction correspondante est la fonction `jitter()`."
   ]
  },
  {
   "cell_type": "code",
   "execution_count": null,
   "metadata": {
    "collapsed": true
   },
   "outputs": [],
   "source": [
    "plot(jitter(smp.c$age),jitter(smp.c$n.enfant))"
   ]
  },
  {
   "cell_type": "markdown",
   "metadata": {},
   "source": [
    "Nous voyons ici `plot(jitter(age), jitter(n.enfant))` et nous avons un graphique plus agréable à regarder où cette fois, il y a bien 799 points.\n",
    "\n",
    "Parfois, c'est l'évolution temporelle de la distribution d'une variable aléatoire quantitative que l'on veut représenter. Le diagramme correspondant s'appelle diagramme temporel voire parfois diagramme de température.\n",
    "\n",
    "Alors nous n'allons pas pouvoir utiliser le fichier santé mentale en prison parce que c'est une étude transversale en un temps donné donc on ne peut pas représenter graphiquement d'évolution au cours du temps. Pour cela, exceptionnellement nous allons utiliser un autre fichier de données. Ce sont des patients déprimés, hospitalisés pour dépression et qui sont traités et suivis pendant quelques semaines. "
   ]
  },
  {
   "cell_type": "code",
   "execution_count": null,
   "metadata": {
    "collapsed": true
   },
   "outputs": [],
   "source": [
    "repdat <-read.csv2(\"outils_hdrs.csv\")\n",
    "str(repdat)"
   ]
  },
  {
   "cell_type": "markdown",
   "metadata": {},
   "source": [
    "L'instruction qui permet de représenter graphiquement l'évolution du score de dépression - ici c'est le score hdrs pour \"hamilton depressive rating scale\" - cette instruction, c'est la fonction `plotmeans()`. La fonction `plotmeans()` ne fait pas partie du bagage standard de R, elle fait partie de la librairie gplots.\n",
    "\n",
    "Pour pouvoir l'utiliser, il faut d'abord que vous installiez le package gplots. Pour cela, une fois que vous avez ouvert R, vous devez aller dans le menu packages et vous cliquez sur Installer les packages, et là vous choisirez le site miroir de R, puis vous cliquerez sur gplots et elle sera téléchargée. Vous n'avez besoin de faire ça qu'une seule fois.\n",
    "\n",
    "Donc ici nous appelons la librairie `gplots` et puis après nous appelons la fonction `plotmeans()` avec tout simplement \n",
    "\n",
    "- la variable à représenter, ici la variable HDRS,\n",
    "- un tilde (~), \n",
    "- et puis la variable qui représente le temps, ici la variable VISIT.\n",
    "\n",
    "Les instructions `gap` et `barcol` ne sont là que pour faire que la représentation graphique soit plus agréable à regarder.\n"
   ]
  },
  {
   "cell_type": "code",
   "execution_count": null,
   "metadata": {
    "collapsed": true
   },
   "outputs": [],
   "source": [
    "library(gplots)"
   ]
  },
  {
   "cell_type": "markdown",
   "metadata": {},
   "source": [
    "***NB :*** *Ce warning est normal : il indique seulement que la fonction `lowess()` a été redéfinie.*"
   ]
  },
  {
   "cell_type": "code",
   "execution_count": null,
   "metadata": {
    "collapsed": true
   },
   "outputs": [],
   "source": [
    "plotmeans(repdat$HDRS~repdat$VISIT,gap=0,barcol=\"black\")"
   ]
  },
  {
   "cell_type": "markdown",
   "metadata": {},
   "source": [
    "***NB :*** *La fonction `plotmeans()` a évolué depuis la première session du MOOC et la commande `plotmeans(repdat$HDRS~repdat$VISIT,gap=0,barcol=\"black\")` produit un warning `\"gap\" is not a graphical parameter` mais les résultats sont bien ceux escomptés.*\n",
    "\n",
    "Nous constatons sur le dessin que l'état symptomatique des patients s'améliore progressivement au fil du temps.\n",
    "\n",
    "Plutôt que de représenter l'évolution moyenne des sujets au cours du temps, il peut être intéressant de représenter l'évolution de chaque sujet. Bien sûr, avec plusieurs centaines d'individus dans un jeu de données, l'ensemble peut faire un peu fouillis. Néanmoins, cela donne une impression intéressante de la variabilité de l'évolution d'un sujet à l'autre.\n",
    "\n",
    "La fonction correspondante est la fonction `interaction.plot()`. Sa syntaxe est très simple :\n",
    "\n",
    "- vous utilisez d'abord comme variable la variable temporelle, ici la variable VISIT,\n",
    "- puis la variable qui indique chaque sujet, ici la variable NUMERO,\n",
    "- puis la variable que vous voulez représenter, ici le score de dépression HDRS. \n",
    "\n",
    "Les instructions `lty=1` correspondent au fait que nous voulons des lignes droites continues et `legend` indique la légende.\n"
   ]
  },
  {
   "cell_type": "code",
   "execution_count": null,
   "metadata": {
    "collapsed": true
   },
   "outputs": [],
   "source": [
    "interaction.plot(repdat$VISIT,repdat$NUMERO,repdat$HDRS,lty=1,legend=FALSE)"
   ]
  },
  {
   "cell_type": "markdown",
   "metadata": {},
   "source": [
    "A l'issue de ce cours, \n",
    "\n",
    "- vous savez maintenant représenter graphiquement la distribution d'une variable qualitative à l'aide de diagrammes en bâtons avec la fonction `barplot()`, à l'aide de camemberts à l'aide de la fonction `pie()`,\n",
    "- vous savez représenter une variable quantitative avec des histogrammes et la fonction `hist()` et des boîtes à moustaches avec la fonction `boxplot()`,\n",
    "- vous savez représenter de façon conjointe la distribution de 2 variables aléatoires avec les diagrammes x/y avec la fonction `plot()`,\n",
    "- et puis finalement, vous savez représenter l'évolution d'une variable au cours du temps à l'aide de la fonction `plotmeans()` ou de la fonction `interaction.plot()`.\n",
    "\n",
    "Ce que je vous propose maintenant, c'est de faire une pause, d'ouvrir votre ordinateur, de lancer R et de refaire tourner toutes ces syntaxes pour retrouver les mêmes résultats."
   ]
  }
 ],
 "metadata": {
  "kernelspec": {
   "display_name": "R",
   "language": "R",
   "name": "ir"
  },
  "language_info": {
   "codemirror_mode": "r",
   "file_extension": ".r",
   "mimetype": "text/x-r-source",
   "name": "R",
   "pygments_lexer": "r",
   "version": "3.4.2"
  }
 },
 "nbformat": 4,
 "nbformat_minor": 2
}
